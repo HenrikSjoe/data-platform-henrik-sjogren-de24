{
 "cells": [
  {
   "cell_type": "markdown",
   "metadata": {},
   "source": [
    "# Exercise 0 - Python repetition\n",
    "\n",
    "These exercises aim for you to train in fundamental Python programming in order to follow along with the course."
   ]
  },
  {
   "cell_type": "markdown",
   "metadata": {},
   "source": [
    "## 0. User input for ETL Parameters\n",
    "\n",
    "Ask the user for 2 inputs:\n",
    "\n",
    "- source file path\n",
    "- destination file path\n",
    "\n",
    "\n",
    "For example:\n",
    "\n",
    "\\# source path\n",
    "/Users/aigineer/Documents/data_platform_course/data/file.csv\n",
    "\n",
    "\\# destination\n",
    "/Users/aigineer/Documents/data_platform_course/cleaned_data/file.csv\n",
    "\n",
    "\n",
    "Then the output should be:\n",
    "\n",
    "source: /Users/aigineer/Documents/data_platform_course/data/file.csv\n",
    "\n",
    "destination: /Users/aigineer/Documents/data_platform_course/cleaned_data/file.csv"
   ]
  },
  {
   "cell_type": "code",
   "execution_count": 1,
   "metadata": {},
   "outputs": [
    {
     "name": "stdout",
     "output_type": "stream",
     "text": [
      "source: /Users/aigineer/Documents/data_platform_course/data/file.csv\n",
      "destination: /Users/aigineer/Documents/data_platform_course/cleaned_data/file.csv\n"
     ]
    }
   ],
   "source": [
    "file_path = input(\"Enter your file path: \")\n",
    "destination_path = input(\"Enter your file path: \")\n",
    "\n",
    "print(f\"source: {file_path}\")\n",
    "print(f\"destination: {destination_path}\")"
   ]
  },
  {
   "cell_type": "markdown",
   "metadata": {},
   "source": [
    "# 1. Schema validation\n",
    "\n",
    "In order to maintain data quality, consistency and reliability, a system needs to validate that it conforms to certain predefined structure or format. This is called schema validation and you'll practice this in the following exercises.\n",
    "\n",
    "### a) Create a dictionary that looks like this:\n",
    "\n",
    "| Key       | Value  |\n",
    "|-----------|--------|\n",
    "| id        | 101    |\n",
    "| name      | Erika  |\n",
    "| is_active | True   |\n",
    "| age       | 45     |"
   ]
  },
  {
   "cell_type": "markdown",
   "metadata": {},
   "source": []
  },
  {
   "cell_type": "code",
   "execution_count": 63,
   "metadata": {},
   "outputs": [
    {
     "data": {
      "text/plain": [
       "{'id': 101, 'name': 'Erika', 'is_active': True, 'age': 45}"
      ]
     },
     "execution_count": 63,
     "metadata": {},
     "output_type": "execute_result"
    }
   ],
   "source": [
    "my_dict = {\n",
    "    \"id\": 101, \n",
    "    \"name\": \"Erika\", \n",
    "    \"is_active\": True, \n",
    "    \"age\": 45\n",
    "    }\n",
    "\n",
    "my_dict"
   ]
  },
  {
   "cell_type": "markdown",
   "metadata": {},
   "source": []
  },
  {
   "cell_type": "markdown",
   "metadata": {},
   "source": [
    "b) Validate that the id is integer, name is string, is_active is boolean and age is integer. It should return true if valid and false if not valid.\n",
    "\n"
   ]
  },
  {
   "cell_type": "code",
   "execution_count": 64,
   "metadata": {},
   "outputs": [
    {
     "name": "stdout",
     "output_type": "stream",
     "text": [
      "True\n"
     ]
    }
   ],
   "source": [
    "def validate_dict(dict):\n",
    "    if isinstance(dict[\"id\"], int) and isinstance(dict[\"name\"], str) and isinstance(dict[\"is_active\"], bool) and isinstance(dict[\"age\"], int):\n",
    "        print(True)\n",
    "    else:\n",
    "        print(False)\n",
    "\n",
    "validate_dict(my_dict)"
   ]
  },
  {
   "cell_type": "code",
   "execution_count": 32,
   "metadata": {},
   "outputs": [
    {
     "data": {
      "text/plain": [
       "(int, str, bool, str)"
      ]
     },
     "execution_count": 32,
     "metadata": {},
     "output_type": "execute_result"
    }
   ],
   "source": [
    "type(my_dict[\"id\"]), type(my_dict[\"name\"]), type(my_dict[\"is_active\"]), type(my_dict[\"age\"])"
   ]
  },
  {
   "cell_type": "markdown",
   "metadata": {},
   "source": [
    "c) The dictionary created can be seen as one row, now lets create more records and store each record (dictionary) in a list.\n",
    "\n",
    "| id  | name   | is_active | age  |\n",
    "|-----|--------|-----------|------|\n",
    "| 102 | Marcus | True      | 34   |\n",
    "| 103 | David  | False     | 29   |\n",
    "| 104 | Anna   | True      | 41.5 |\n",
    "| 106 | Ingrid | NOPE      | 8    |"
   ]
  },
  {
   "cell_type": "code",
   "execution_count": 42,
   "metadata": {},
   "outputs": [
    {
     "data": {
      "text/plain": [
       "[{'id': 102, 'name': 'Marcus', 'is_active': True, 'age': 34},\n",
       " {'id': 103, 'name': 'David', 'is_active': False, 'age': 29},\n",
       " {'id': 104, 'name': 'Anna', 'is_active': True, 'age': 41.5},\n",
       " {'id': 106, 'name': 'Ingrid', 'is_active': 'NOPE', 'age': 8}]"
      ]
     },
     "execution_count": 42,
     "metadata": {},
     "output_type": "execute_result"
    }
   ],
   "source": [
    "marcus = {\n",
    "    \"id\": 102,\n",
    "    \"name\": \"Marcus\",\n",
    "    \"is_active\": True,\n",
    "    \"age\": 34\n",
    "    }\n",
    "\n",
    "david ={\n",
    "    \"id\": 103,\n",
    "    \"name\": \"David\",\n",
    "    \"is_active\": False,\n",
    "    \"age\": 29\n",
    "}\n",
    "\n",
    "anna = {\n",
    "    \"id\": 104,\n",
    "    \"name\": \"Anna\",\n",
    "    \"is_active\": True,\n",
    "    \"age\": 41.5,\n",
    "}\n",
    "\n",
    "ingrid = {\n",
    "    \"id\": 106,\n",
    "    \"name\": \"Ingrid\",\n",
    "    \"is_active\": \"NOPE\",\n",
    "    \"age\": 8\n",
    "}\n",
    "\n",
    "my_list = [marcus, david, anna, ingrid]\n",
    "my_list"
   ]
  },
  {
   "cell_type": "code",
   "execution_count": 59,
   "metadata": {},
   "outputs": [],
   "source": [
    "type(my_list[0]), type(my_list), type(my_list[0][\"age\"])\n",
    "\n",
    "my_other_list = [\n",
    "    {\"id\": 107,\n",
    "    \"name\": \"Henrik\",\n",
    "    \"is_active\": True,\n",
    "    \"age\": 38},\n",
    "    {\"id\": 108,\n",
    "    \"name\": \"Karin\",\n",
    "    \"is_active\": True,\n",
    "    \"age\": 44},\n",
    "    {\"id\": 109,\n",
    "    \"name\": \"August\",\n",
    "    \"is_active\": 45,\n",
    "    \"age\": 4},\n",
    "    {\"id\": 110,\n",
    "    \"name\": \"Bo\",\n",
    "    \"is_active\": True,\n",
    "    \"age\": 2}\n",
    "]"
   ]
  },
  {
   "cell_type": "markdown",
   "metadata": {},
   "source": [
    "d) Do schema validation on the JSON array in c)\n",
    "\n"
   ]
  },
  {
   "cell_type": "code",
   "execution_count": 68,
   "metadata": {},
   "outputs": [
    {
     "name": "stdout",
     "output_type": "stream",
     "text": [
      "True\n",
      "Record 1: Invalid - {'id': 102, 'name': 'Marcus', 'is_active': True, 'age': 34}\n",
      "True\n",
      "Record 2: Invalid - {'id': 103, 'name': 'David', 'is_active': False, 'age': 29}\n",
      "False\n",
      "Record 3: Invalid - {'id': 104, 'name': 'Anna', 'is_active': True, 'age': 41.5}\n",
      "False\n",
      "Record 4: Invalid - {'id': 106, 'name': 'Ingrid', 'is_active': 'NOPE', 'age': 8}\n",
      "\n",
      "True\n",
      "Record 1: Invalid - {'id': 107, 'name': 'Henrik', 'is_active': True, 'age': 38}\n",
      "True\n",
      "Record 2: Invalid - {'id': 108, 'name': 'Karin', 'is_active': True, 'age': 44}\n",
      "False\n",
      "Record 3: Invalid - {'id': 109, 'name': 'August', 'is_active': 45, 'age': 4}\n",
      "True\n",
      "Record 4: Invalid - {'id': 110, 'name': 'Bo', 'is_active': True, 'age': 2}\n"
     ]
    }
   ],
   "source": [
    "# def validate_person(list_):\n",
    "#     for person in list_:\n",
    "#         validate_dict(person)\n",
    "\n",
    "def validate_person(list_):\n",
    "    for idx, person in enumerate(list_):\n",
    "        if validate_dict(person):\n",
    "            print(f\"Record {idx + 1}: Valid\")\n",
    "        else:\n",
    "            print(f\"Record {idx + 1}: Invalid - {person}\")\n",
    "\n",
    "validate_person(my_list)\n",
    "print(\"\")\n",
    "validate_person(my_other_list)"
   ]
  },
  {
   "cell_type": "markdown",
   "metadata": {},
   "source": [
    "e) Make a function for schema validation and try input the two examples and see if you get correct answer. Also make other examples and test your function."
   ]
  },
  {
   "cell_type": "markdown",
   "metadata": {},
   "source": [
    "# 2. Data quality check"
   ]
  },
  {
   "cell_type": "markdown",
   "metadata": {},
   "source": [
    "Create a function that checks a list that it contains exactly ten elements, and none of them contains None. If they contain None, print out an error message that says that it is invalid and print out what a valid format should be."
   ]
  },
  {
   "cell_type": "code",
   "execution_count": null,
   "metadata": {},
   "outputs": [],
   "source": []
  },
  {
   "cell_type": "code",
   "execution_count": 115,
   "metadata": {},
   "outputs": [
    {
     "name": "stdout",
     "output_type": "stream",
     "text": [
      "10\n",
      "9\n",
      "10\n",
      "[1, 2, 3, 4, 5, 6, 7, 8, 9, 10]\n",
      "[1, 2, 3, 4, 5, 6, 7, 8, 9]\n",
      "(1, 2, 3, 4, 5, None, 6, 7, 8, 9)\n"
     ]
    }
   ],
   "source": [
    "numbers_list = list(range(1,11))\n",
    "numbers_list2 = list(range(1,10))\n",
    "# numbers_list3 = list(range(1,10))\n",
    "# numbers_list3.append(None)\n",
    "numbers_list3 = 1, 2, 3, 4, 5, None,6, 7, 8, 9\n",
    "\n",
    "print(len(numbers_list))\n",
    "print(len(numbers_list2))\n",
    "print(len(numbers_list3))\n",
    "\n",
    "print(numbers_list)\n",
    "print(numbers_list2)\n",
    "print(numbers_list3)"
   ]
  },
  {
   "cell_type": "code",
   "execution_count": 116,
   "metadata": {},
   "outputs": [
    {
     "name": "stdout",
     "output_type": "stream",
     "text": [
      "list ok\n"
     ]
    }
   ],
   "source": [
    "name = \"henrik\"\n",
    "\n",
    "def check_list(list_):\n",
    "    if not isinstance(list_, list):\n",
    "        raise ValueError(\"Input must be a list\")\n",
    "    if len(list_) != 10:\n",
    "        raise ValueError(f\"Your list contains of {len(list_)} elements but list has to have exactly 10 elements\")\n",
    "    elif None in list_:\n",
    "        raise ValueError(\"List contains none\")\n",
    "    else:\n",
    "        print(\"list ok\")\n",
    "\n",
    "try:\n",
    "    check_list(numbers_list)\n",
    "except ValueError as err:\n",
    "    print(err)\n"
   ]
  },
  {
   "cell_type": "markdown",
   "metadata": {},
   "source": [
    "# 3. Extract data from logs"
   ]
  },
  {
   "cell_type": "markdown",
   "metadata": {},
   "source": [
    "In data engineering, log files and log messages are very common. Sometimes you need to parse them to find valuable information, for example for debugging reasons.\n",
    "\n",
    "Read in network.log and extract source IP, destination IP, protocol and data size.\n",
    "\n",
    "Expected output:\n",
    "\n",
    "| Source      | Destination | Protocol | Bytes |\n",
    "|-------------|-------------|----------|-------|\n",
    "| 10.0.0.1    | 10.0.0.2    | TCP      | 1024  |\n",
    "| 10.0.0.2    | 10.0.0.3    | UDP      | 2048  |\n",
    "| 10.0.0.3    | 10.0.0.1    | TCP      | 512   |\n",
    "\n",
    "### Data Transfer Summary:\n",
    "- **TCP**: 1536 bytes\n",
    "- **UDP**: 2048 bytes"
   ]
  },
  {
   "cell_type": "code",
   "execution_count": 144,
   "metadata": {},
   "outputs": [
    {
     "name": "stdout",
     "output_type": "stream",
     "text": [
      "['Bytes: 1024\\n2024-06-01 09:05:00', 'Bytes: 2048\\n2024-06-01 09:10:00', 'Bytes: 512']\n",
      "Bytes: 1024\n",
      "2024-06-01 09:05:00\n",
      "Bytes: 2048\n",
      "2024-06-01 09:10:00\n",
      "Bytes: 512\n"
     ]
    }
   ],
   "source": [
    "import re\n",
    "\n",
    "with open(\"data/network.log\", 'r') as file:\n",
    "    raw_text = file.read()\n",
    "\n",
    "# print(raw_text)\n",
    "\n",
    "sentences = [text.strip() for text in raw_text.split(\" | \")]\n",
    "# print(sentences)\n",
    "\n",
    "tcp = 0\n",
    "udp = 0\n",
    "bytes = []\n",
    "bytes_only = [item for item in sentences if \"Bytes:\" in item]\n",
    "\n",
    "# for item in sentences:\n",
    "#     if \"Bytes:\" in item: \n",
    "#         bytes.append(item)\n",
    "\n",
    "# bytes_str = str(bytes)\n",
    "\n",
    "# print(type(bytes))\n",
    "# print(type(bytes_str))\n",
    "# print(bytes)\n",
    "# print(bytes_str)\n",
    "# for item in bytes:\n",
    "#     if \"Bytes:\" in item:\n",
    "#         bytes_only.append(item)\n",
    "\n",
    "print(bytes_only)\n",
    "for item in bytes_only:\n",
    "    print(item)"
   ]
  },
  {
   "cell_type": "code",
   "execution_count": null,
   "metadata": {},
   "outputs": [],
   "source": []
  },
  {
   "cell_type": "code",
   "execution_count": null,
   "metadata": {},
   "outputs": [],
   "source": []
  }
 ],
 "metadata": {
  "kernelspec": {
   "display_name": ".venv",
   "language": "python",
   "name": "python3"
  },
  "language_info": {
   "codemirror_mode": {
    "name": "ipython",
    "version": 3
   },
   "file_extension": ".py",
   "mimetype": "text/x-python",
   "name": "python",
   "nbconvert_exporter": "python",
   "pygments_lexer": "ipython3",
   "version": "3.12.5"
  }
 },
 "nbformat": 4,
 "nbformat_minor": 2
}
