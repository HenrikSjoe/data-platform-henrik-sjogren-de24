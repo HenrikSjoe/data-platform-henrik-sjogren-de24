{
 "cells": [
  {
   "cell_type": "markdown",
   "metadata": {},
   "source": [
    "## Schema validation\n",
    "\n",
    "In order to maintain data quality, consistency and reliability, a system needs to validate that it conforms to certain predefined structure or format. This is called schema validation and you'll practice this in the following exercises."
   ]
  },
  {
   "cell_type": "markdown",
   "metadata": {},
   "source": [
    "  a) Create a dictionary that look like this\n",
    "\n",
    "Key\tValue\n",
    "id\t101\n",
    "name\tErika\n",
    "is_active\tTrue\n",
    "age\t45\n",
    " "
   ]
  },
  {
   "cell_type": "code",
   "execution_count": 4,
   "metadata": {},
   "outputs": [
    {
     "data": {
      "text/plain": [
       "({'id': 101, 'name': 'Erika', 'is_active': True, 'age': 45}, dict)"
      ]
     },
     "execution_count": 4,
     "metadata": {},
     "output_type": "execute_result"
    }
   ],
   "source": [
    "record =dict (id = 101,\n",
    "name= \"Erika\",\n",
    "is_active= True,\n",
    "age=\t45\n",
    ")\n",
    "record, type(record)"
   ]
  },
  {
   "cell_type": "markdown",
   "metadata": {},
   "source": [
    "b) Validate that the id is integer, name is string, is_active is boolean and age is integer. It should return true if valid and false if not valid."
   ]
  },
  {
   "cell_type": "code",
   "execution_count": 7,
   "metadata": {},
   "outputs": [
    {
     "data": {
      "text/plain": [
       "dict_keys(['id', 'name', 'is_active', 'age'])"
      ]
     },
     "execution_count": 7,
     "metadata": {},
     "output_type": "execute_result"
    }
   ],
   "source": [
    "schema = {\"id\": int, \"name\": str, \"is_active\": bool, \"age\": int}\n",
    "schema.keys()"
   ]
  },
  {
   "cell_type": "code",
   "execution_count": 9,
   "metadata": {},
   "outputs": [
    {
     "data": {
      "text/plain": [
       "(101, int, bool)"
      ]
     },
     "execution_count": 9,
     "metadata": {},
     "output_type": "execute_result"
    }
   ],
   "source": [
    "record[\"id\"], schema[\"id\"], schema[\"is_active\"]"
   ]
  },
  {
   "cell_type": "code",
   "execution_count": 11,
   "metadata": {},
   "outputs": [
    {
     "data": {
      "text/plain": [
       "False"
      ]
     },
     "execution_count": 11,
     "metadata": {},
     "output_type": "execute_result"
    }
   ],
   "source": [
    "isinstance(5,str)"
   ]
  },
  {
   "cell_type": "code",
   "execution_count": 23,
   "metadata": {},
   "outputs": [
    {
     "data": {
      "text/plain": [
       "True"
      ]
     },
     "execution_count": 23,
     "metadata": {},
     "output_type": "execute_result"
    }
   ],
   "source": [
    "validation_list = []\n",
    "for key, data_type in schema.items():\n",
    "    # print(record[key], data_type)\n",
    "    validation_list.append(isinstance(record[key], data_type))\n",
    "\n",
    "all(validation_list)"
   ]
  },
  {
   "cell_type": "code",
   "execution_count": 12,
   "metadata": {},
   "outputs": [
    {
     "data": {
      "text/plain": [
       "['id', 'name', 'is_active', 'age']"
      ]
     },
     "execution_count": 12,
     "metadata": {},
     "output_type": "execute_result"
    }
   ],
   "source": [
    "[key for key in schema]"
   ]
  },
  {
   "cell_type": "markdown",
   "metadata": {},
   "source": [
    "## 2. Data quality check\n",
    "\n",
    "Create a function that checks a list that it contains exactly ten elements, and none of them contains None. If they contain None, print out an error message that says that it is invalid and print out what a valid format should be."
   ]
  },
  {
   "cell_type": "code",
   "execution_count": 5,
   "metadata": {},
   "outputs": [],
   "source": [
    "my_list = list(range(10))\n",
    "my_list_none = list(range(9)) + [None]\n",
    "my_list_large = list(range(200))"
   ]
  },
  {
   "cell_type": "code",
   "execution_count": 6,
   "metadata": {},
   "outputs": [
    {
     "data": {
      "text/plain": [
       "10"
      ]
     },
     "execution_count": 6,
     "metadata": {},
     "output_type": "execute_result"
    }
   ],
   "source": [
    "len(my_list)"
   ]
  },
  {
   "cell_type": "code",
   "execution_count": 7,
   "metadata": {},
   "outputs": [
    {
     "data": {
      "text/plain": [
       "(False, True)"
      ]
     },
     "execution_count": 7,
     "metadata": {},
     "output_type": "execute_result"
    }
   ],
   "source": [
    "None in my_list, None in my_list_none"
   ]
  },
  {
   "cell_type": "code",
   "execution_count": 8,
   "metadata": {},
   "outputs": [
    {
     "name": "stdout",
     "output_type": "stream",
     "text": [
      "Wohoo\n",
      "Not wohoo\n",
      "Not wohoo\n"
     ]
    }
   ],
   "source": [
    "if len(my_list) == 10 and None not in my_list:\n",
    "    print(\"Wohoo\")\n",
    "else: \n",
    "    print(\"Not wohoo\")\n",
    "\n",
    "if len(my_list_none) == 10 and None not in my_list_none:\n",
    "    print(\"Wohoo\")\n",
    "else: \n",
    "    print(\"Not wohoo\")\n",
    "\n",
    "\n",
    "if len(my_list_large) == 10 and None not in my_list_large:\n",
    "    print(\"Wohoo\")\n",
    "else: \n",
    "    print(\"Not wohoo\")"
   ]
  },
  {
   "cell_type": "code",
   "execution_count": 10,
   "metadata": {},
   "outputs": [
    {
     "name": "stdout",
     "output_type": "stream",
     "text": [
      "Your list must be 10 elements and must not contain None\n",
      "                         Lenght of your provided list was: 10, None in list: True\n"
     ]
    }
   ],
   "source": [
    "def quality_check(list_):\n",
    "    if len(list_) != 10 or None in list_:\n",
    "        raise ValueError(f\"\"\"Your list must be 10 elements and must not contain None\n",
    "                         Lenght of your provided list was: {len(list_)}, None in list: {None in list_}\"\"\")\n",
    "    print(\"Your list contains no Nones and is 10 items long.\")\n",
    "\n",
    "try:\n",
    "    quality_check(my_list_none)\n",
    "except ValueError as err:\n",
    "    print(err)"
   ]
  },
  {
   "cell_type": "code",
   "execution_count": null,
   "metadata": {},
   "outputs": [],
   "source": []
  }
 ],
 "metadata": {
  "kernelspec": {
   "display_name": ".venv",
   "language": "python",
   "name": "python3"
  },
  "language_info": {
   "codemirror_mode": {
    "name": "ipython",
    "version": 3
   },
   "file_extension": ".py",
   "mimetype": "text/x-python",
   "name": "python",
   "nbconvert_exporter": "python",
   "pygments_lexer": "ipython3",
   "version": "3.12.5"
  }
 },
 "nbformat": 4,
 "nbformat_minor": 2
}
