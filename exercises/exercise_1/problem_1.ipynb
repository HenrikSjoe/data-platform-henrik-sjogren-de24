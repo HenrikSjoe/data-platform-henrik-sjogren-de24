{
 "cells": [
  {
   "cell_type": "markdown",
   "metadata": {},
   "source": [
    "## 1. Working with grades data\n",
    "The dataset is called betyg_o_prov_riksnivå.xlsx and found here.\n",
    "\n",
    "  a) Draw a line chart for proportion of students that are missing approved grade for one or more subjects for the years 18-23.\n",
    "\n",
    "  b) Validate that the id is integer, name is string, is_active is boolean and age is integer. It should return true if valid and false if not valid.\n",
    "\n",
    "  c) Examine other variable(s) of your choice and check how they affect the students grade. For example you could choose \"föräldrarnas utbildningsbakgrund\", parents grades.\n",
    "\n",
    "  d) Feel free to do more EDA on this dataset."
   ]
  },
  {
   "cell_type": "code",
   "execution_count": 47,
   "metadata": {},
   "outputs": [
    {
     "data": {
      "text/plain": [
       "0     24.5\n",
       "1     23.9\n",
       "2     23.9\n",
       "3     25.9\n",
       "4     26.8\n",
       "5      NaN\n",
       "6     28.9\n",
       "7     18.7\n",
       "8      NaN\n",
       "9     18.0\n",
       "10    29.4\n",
       "11    25.6\n",
       "12    21.4\n",
       "13    40.2\n",
       "14     NaN\n",
       "15    32.6\n",
       "16    32.0\n",
       "17    54.3\n",
       "18    25.2\n",
       "19    75.0\n",
       "20    77.9\n",
       "21     NaN\n",
       "22    63.5\n",
       "23    37.4\n",
       "24    16.8\n",
       "25     NaN\n",
       "26    26.1\n",
       "27    13.7\n",
       "Name: Totalt.2, dtype: float64"
      ]
     },
     "execution_count": 47,
     "metadata": {},
     "output_type": "execute_result"
    }
   ],
   "source": [
    "import pandas as pd\n",
    "\n",
    "df_grades = {}\n",
    "for table in [\"Tabell 1A\", \"Tabell 1B\"]:\n",
    "    df_grades[table] = pd.read_excel(\"data/betyg_o_prov_riksnivå.xlsx\", sheet_name=table, skiprows=7)\n",
    "\n",
    "flunk_percent = df_grades[\"Tabell 1B\"][\"Totalt.2\"]\n",
    "year = df_grades[\"Tabell 1B\"][\"Unnamed: 0\"]\n",
    "\n",
    "fail_percentage = {}\n",
    " \n",
    "year\n",
    "flunk_percent\n",
    "df_grades.keys()\n",
    "flunk_percent"
   ]
  },
  {
   "cell_type": "code",
   "execution_count": 33,
   "metadata": {},
   "outputs": [],
   "source": [
    "year = year[0:5]"
   ]
  },
  {
   "cell_type": "code",
   "execution_count": 34,
   "metadata": {},
   "outputs": [],
   "source": [
    "flunk_percent = flunk_percent[0:5]"
   ]
  },
  {
   "cell_type": "code",
   "execution_count": 30,
   "metadata": {},
   "outputs": [
    {
     "data": {
      "text/plain": [
       "dict"
      ]
     },
     "execution_count": 30,
     "metadata": {},
     "output_type": "execute_result"
    }
   ],
   "source": [
    "type(fail_percentage)"
   ]
  },
  {
   "cell_type": "code",
   "execution_count": 31,
   "metadata": {},
   "outputs": [
    {
     "name": "stdout",
     "output_type": "stream",
     "text": [
      "0                                               2018/19\n",
      "1                                               2019/20\n",
      "2                                               2020/21\n",
      "3                                               2021/22\n",
      "4                                               2022/23\n",
      "5                                                 därav\n",
      "6                                                Kommun\n",
      "7                                               Enskild\n",
      "8                                                 därav\n",
      "9                                     Allmän inriktning\n",
      "10                                        Konfessionell\n",
      "11                                              Waldorf\n",
      "12                           Elever med svensk bakgrund\n",
      "13                         Elever med utländsk bakgrund\n",
      "14                                                därav\n",
      "15                                      Födda i Sverige\n",
      "16                      Födda utomlands, inv. före 2014\n",
      "17                Födda utomlands, inv. 2014 el. senare\n",
      "18    Totalt exkl. nyinvandrade elever och okänd bak...\n",
      "19                                  Nyinvandrade elever\n",
      "20                            Elever med okänd bakgrund\n",
      "21                      Föräldrarnas högsta utbildning2\n",
      "22                              Förgymnasial utbildning\n",
      "23                                 Gymnasial utbildning\n",
      "24                            Eftergymnasial utbildning\n",
      "25                                                därav\n",
      "26                                      Kort utbildning\n",
      "27                                      Lång utbildning\n",
      "Name: Unnamed: 0, dtype: object\n"
     ]
    }
   ],
   "source": [
    "# d1 = year\n",
    "# d2 = fail_percentage\n",
    "\n",
    "# d3 = d1.copy()\n",
    "# for value in d2.items():\n",
    "#     d3[] = value\n",
    "\n",
    "# print(d3)"
   ]
  },
  {
   "cell_type": "code",
   "execution_count": 36,
   "metadata": {},
   "outputs": [
    {
     "ename": "AttributeError",
     "evalue": "'list' object has no attribute 'tolist'",
     "output_type": "error",
     "traceback": [
      "\u001b[0;31m---------------------------------------------------------------------------\u001b[0m",
      "\u001b[0;31mAttributeError\u001b[0m                            Traceback (most recent call last)",
      "Cell \u001b[0;32mIn[36], line 1\u001b[0m\n\u001b[0;32m----> 1\u001b[0m year \u001b[38;5;241m=\u001b[39m \u001b[43myear\u001b[49m\u001b[38;5;241;43m.\u001b[39;49m\u001b[43mtolist\u001b[49m()\n\u001b[1;32m      2\u001b[0m year\n",
      "\u001b[0;31mAttributeError\u001b[0m: 'list' object has no attribute 'tolist'"
     ]
    }
   ],
   "source": [
    "year = year.tolist()\n",
    "year"
   ]
  },
  {
   "cell_type": "code",
   "execution_count": 37,
   "metadata": {},
   "outputs": [
    {
     "data": {
      "text/plain": [
       "['2018/19', '2019/20', '2020/21', '2021/22', '2022/23']"
      ]
     },
     "execution_count": 37,
     "metadata": {},
     "output_type": "execute_result"
    }
   ],
   "source": [
    "year"
   ]
  },
  {
   "cell_type": "code",
   "execution_count": 39,
   "metadata": {},
   "outputs": [],
   "source": [
    "flunk_percent = flunk_percent.tolist()"
   ]
  },
  {
   "cell_type": "code",
   "execution_count": 40,
   "metadata": {},
   "outputs": [
    {
     "data": {
      "text/plain": [
       "[24.5, 23.9, 23.9, 25.9, 26.8]"
      ]
     },
     "execution_count": 40,
     "metadata": {},
     "output_type": "execute_result"
    }
   ],
   "source": [
    "flunk_percent"
   ]
  },
  {
   "cell_type": "code",
   "execution_count": 41,
   "metadata": {},
   "outputs": [
    {
     "data": {
      "text/plain": [
       "{'2018/19': 24.5,\n",
       " '2019/20': 23.9,\n",
       " '2020/21': 23.9,\n",
       " '2021/22': 25.9,\n",
       " '2022/23': 26.8}"
      ]
     },
     "execution_count": 41,
     "metadata": {},
     "output_type": "execute_result"
    }
   ],
   "source": [
    "flunk_dict = dict(zip(year, flunk_percent))\n",
    "\n",
    "flunk_dict"
   ]
  },
  {
   "cell_type": "code",
   "execution_count": 42,
   "metadata": {},
   "outputs": [
    {
     "data": {
      "text/plain": [
       "<Axes: >"
      ]
     },
     "execution_count": 42,
     "metadata": {},
     "output_type": "execute_result"
    },
    {
     "data": {
      "image/png": "[encoded data removed]",
      "text/plain": [
       "<Figure size 640x480 with 1 Axes>"
      ]
     },
     "metadata": {},
     "output_type": "display_data"
    }
   ],
   "source": [
    "import seaborn as sns\n",
    "\n",
    "sns.lineplot(flunk_dict)"
   ]
  }
 ],
 "metadata": {
  "kernelspec": {
   "display_name": ".venv",
   "language": "python",
   "name": "python3"
  },
  "language_info": {
   "codemirror_mode": {
    "name": "ipython",
    "version": 3
   },
   "file_extension": ".py",
   "mimetype": "text/x-python",
   "name": "python",
   "nbconvert_exporter": "python",
   "pygments_lexer": "ipython3",
   "version": "3.12.5"
  }
 },
 "nbformat": 4,
 "nbformat_minor": 2
}
